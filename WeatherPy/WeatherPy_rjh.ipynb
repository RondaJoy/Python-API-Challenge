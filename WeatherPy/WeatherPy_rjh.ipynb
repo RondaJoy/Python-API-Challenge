{
 "cells": [
  {
   "cell_type": "markdown",
   "metadata": {},
   "source": [
    "# WeatherPy\n",
    "\n",
    "---\n",
    "\n",
    "## Starter Code to Generate Random Geographic Coordinates and a List of Cities"
   ]
  },
  {
   "cell_type": "code",
   "execution_count": null,
   "metadata": {
    "scrolled": true
   },
   "outputs": [],
   "source": [
    "# Dependencies and Setup\n",
    "import matplotlib.pyplot as plt\n",
    "import pandas as pd\n",
    "import numpy as np\n",
    "import requests\n",
    "import time\n",
    "from scipy.stats import linregress\n",
    "\n",
    "# Impor the OpenWeatherMap API key\n",
    "from api_keys import weather_api_key\n",
    "\n",
    "# Import citipy to determine the cities based on latitude and longitude\n",
    "from citipy import citipy"
   ]
  },
  {
   "cell_type": "markdown",
   "metadata": {},
   "source": [
    "### Generate the Cities List by Using the `citipy` Library"
   ]
  },
  {
   "cell_type": "code",
   "execution_count": null,
   "metadata": {},
   "outputs": [],
   "source": [
    "# Empty list for holding the latitude and longitude combinations\n",
    "lat_lngs = []\n",
    "\n",
    "# Empty list for holding the cities names\n",
    "cities = []\n",
    "city_names = []\n",
    "fullset = []\n",
    "\n",
    "# Range of latitudes and longitudes\n",
    "lat_range = (-90, 90)\n",
    "lng_range = (-180, 180)\n",
    "\n",
    "# Create a set of random lat and lng combinations\n",
    "lats = np.random.uniform(lat_range[0], lat_range[1], size=1500)\n",
    "lngs = np.random.uniform(lng_range[0], lng_range[1], size=1500)\n",
    "lat_lngs = zip(lats, lngs)\n",
    "\n",
    "# Identify nearest city for each lat, lng combination\n",
    "for c, lat_lng in enumerate(lat_lngs):\n",
    "    city = citipy.nearest_city(lat_lng[0], lat_lng[1]).city_name\n",
    "    \n",
    "    city = city.title()\n",
    "    \n",
    "    # If the city is unique, then add it to a our cities list\n",
    "    if city not in cities and pd.notnull(city):\n",
    "        cities.append(city)\n",
    "        city_names.append(city)\n",
    "        fullset.append(c)\n",
    "        \n",
    "# Reduce the lat/longs using the fullset list\n",
    "lats = [lats[c] for c in fullset]\n",
    "lngs = [lngs[c] for c in fullset]\n",
    "\n",
    "# Print the city count to confirm sufficient count\n",
    "print(f\"Number of cities in the list: {len(cities)}\")"
   ]
  },
  {
   "cell_type": "markdown",
   "metadata": {},
   "source": [
    "---"
   ]
  },
  {
   "cell_type": "markdown",
   "metadata": {},
   "source": [
    "## Requirement 1: Create Plots to Showcase the Relationship Between Weather Variables and Latitude\n",
    "\n",
    "### Use the OpenWeatherMap API to retrieve weather data from the cities list generated in the started code"
   ]
  },
  {
   "cell_type": "code",
   "execution_count": null,
   "metadata": {},
   "outputs": [],
   "source": [
    "# Set the API base URL\n",
    "url = \"http://api.openweathermap.org/data/2.5/weather?\"\n",
    "units = \"imperial\"\n",
    "\n",
    "# Define an empty list to fetch the weather data for each city\n",
    "city_data = []\n",
    "\n",
    "# Print to logger\n",
    "print(\"Beginning Data Retrieval     \")\n",
    "print(\"-----------------------------\")\n",
    "\n",
    "# Create counters\n",
    "record_count = 1\n",
    "set_count = 1\n",
    "\n",
    "# Loop through all the cities in our list to fetch weather data\n",
    "for i, city in enumerate(cities):\n",
    "        \n",
    "    # Group cities in sets of 50 for logging purposes\n",
    "    if (i % 50 == 0 and i >= 50):\n",
    "        set_count += 1\n",
    "        record_count = 0\n",
    "        \n",
    "    # Create endpoint URL with each city\n",
    "    city_url = f\"{url}appid={weather_api_key}&units={units}&q=\"\n",
    "      \n",
    "    # Log the url, record, and set numbers\n",
    "    print(\"Processing Record %s of Set %s | %s\" % (record_count, set_count, city))\n",
    "\n",
    "    # Add 1 to the record count\n",
    "    record_count += 1\n",
    "\n",
    "    # Run an API request for each of the cities\n",
    "    try:\n",
    "        # Parse the JSON and retrieve data\n",
    "        city_weather = requests.get(city_url + city).json()\n",
    "\n",
    "        # Parse out latitude, longitude, max temp, humidity, cloudiness, wind speed, country, and date\n",
    "        city_lat = city_weather['coord']['lat']\n",
    "        city_lon = city_weather['coord']['lon']\n",
    "        city_max_temp = city_weather['main']['temp_max']\n",
    "        city_humidity = city_weather['main']['humidity']\n",
    "        city_clouds = city_weather['clouds']['all']\n",
    "        city_wind = city_weather['wind']['speed']\n",
    "        city_country = city_weather['sys']['country']\n",
    "        city_date = city_weather['dt']\n",
    "\n",
    "        # Append the City information into city_data list\n",
    "        city_data.append({\"City\": city, \n",
    "                          \"Lat\": city_lat, \n",
    "                          \"Lng\": city_lon, \n",
    "                          \"Max Temp (F)\": city_max_temp,\n",
    "                          \"Humidity\": city_humidity,\n",
    "                          \"Cloudiness\": city_clouds,\n",
    "                          \"Wind Speed\": city_wind,\n",
    "                          \"Country\": city_country,\n",
    "                          \"Date\": city_date})\n",
    "\n",
    "    # If an error is experienced, skip the city\n",
    "    except:\n",
    "        print(\"City not found. Skipping...\")\n",
    "        pass\n",
    "              \n",
    "# Indicate that Data Loading is complete \n",
    "print(\"-----------------------------\")\n",
    "print(\"Data Retrieval Complete      \")\n",
    "print(\"-----------------------------\")"
   ]
  },
  {
   "cell_type": "code",
   "execution_count": null,
   "metadata": {},
   "outputs": [],
   "source": [
    "# Convert the cities weather data into a Pandas DataFrame\n",
    "city_data_df = pd.DataFrame(city_data)\n",
    "\n",
    "# Show Record Count\n",
    "city_data_df.count()"
   ]
  },
  {
   "cell_type": "code",
   "execution_count": null,
   "metadata": {},
   "outputs": [],
   "source": [
    "# Display sample data\n",
    "city_data_df.head()"
   ]
  },
  {
   "cell_type": "code",
   "execution_count": null,
   "metadata": {},
   "outputs": [],
   "source": [
    "# Export the City_Data into a csv\n",
    "city_data_df.to_csv(\"output_data/cities.csv\", index_label=\"City_ID\")"
   ]
  },
  {
   "cell_type": "code",
   "execution_count": null,
   "metadata": {},
   "outputs": [],
   "source": [
    "# Read saved data\n",
    "city_data_df = pd.read_csv(\"output_data/cities.csv\", index_col=\"City_ID\")\n",
    "\n",
    "# Display sample data\n",
    "city_data_df.head()"
   ]
  },
  {
   "cell_type": "markdown",
   "metadata": {},
   "source": [
    "### Create the Scatter Plots Requested\n",
    "\n",
    "#### Latitude Vs. Temperature"
   ]
  },
  {
   "cell_type": "code",
   "execution_count": null,
   "metadata": {
    "tags": []
   },
   "outputs": [],
   "source": [
    "# Build scatter plot for latitude vs. temperature\n",
    "x_values = city_data_df[\"Lat\"].astype(\"float\")\n",
    "y_values = city_data_df[\"Max Temp (F)\"].astype(\"float\")\n",
    "plt.scatter(x_values,y_values, c='C0', s=25, edgecolors='0.0')\n",
    "\n",
    "# Get the date from the dataframe\n",
    "date_unix = city_data_df[\"Date\"].iloc[1]\n",
    "date = pd.to_datetime(date_unix, unit='s').strftime('%Y-%m-%d')\n",
    "\n",
    "# Incorporate the other graph properties\n",
    "plt.xlabel('Global Latitude of City')\n",
    "plt.ylabel('Max Temperature (F)')\n",
    "plt.title(f'Latitude vs. High Temperature ({date})')\n",
    "\n",
    "# Save the figure\n",
    "plt.savefig(\"output_data/Fig1.png\")\n",
    "\n",
    "# Show plot\n",
    "plt.show()"
   ]
  },
  {
   "cell_type": "markdown",
   "metadata": {},
   "source": [
    "#### Latitude Vs. Humidity"
   ]
  },
  {
   "cell_type": "code",
   "execution_count": null,
   "metadata": {},
   "outputs": [],
   "source": [
    "# Build the scatter plots for latitude vs. humidity\n",
    "x_values = city_data_df[\"Lat\"].astype(\"float\")\n",
    "y_values = city_data_df[\"Humidity\"].astype(\"float\")\n",
    "plt.scatter(x_values,y_values, c='m', s=25, edgecolors='0.0')\n",
    "\n",
    "# Incorporate the other graph properties\n",
    "plt.xlabel('Global Latitude of City')\n",
    "plt.ylabel('Humidity (%)')\n",
    "plt.title(f'Latitude vs. Humidity ({date})')\n",
    "\n",
    "# Save the figure\n",
    "plt.savefig(\"output_data/Fig2.png\")\n",
    "\n",
    "# Show plot\n",
    "plt.show()"
   ]
  },
  {
   "cell_type": "markdown",
   "metadata": {},
   "source": [
    "#### Latitude Vs. Cloudiness"
   ]
  },
  {
   "cell_type": "code",
   "execution_count": null,
   "metadata": {},
   "outputs": [],
   "source": [
    "# Build the scatter plots for latitude vs. cloudiness\n",
    "x_values = city_data_df[\"Lat\"].astype(\"float\")\n",
    "y_values = city_data_df[\"Cloudiness\"].astype(\"float\")\n",
    "plt.scatter(x_values,y_values, c='c', s=25, edgecolors='0.0')\n",
    "\n",
    "# Incorporate the other graph properties\n",
    "plt.xlabel('Global Latitude of City')\n",
    "plt.ylabel('Cloud Cover (%)')\n",
    "plt.title(f'Latitude vs. Cloudiness ({date})')\n",
    "\n",
    "# Save the figure\n",
    "plt.savefig(\"output_data/Fig3.png\")\n",
    "\n",
    "# Show plot\n",
    "plt.show()"
   ]
  },
  {
   "cell_type": "markdown",
   "metadata": {},
   "source": [
    "#### Latitude vs. Wind Speed Plot"
   ]
  },
  {
   "cell_type": "code",
   "execution_count": null,
   "metadata": {},
   "outputs": [],
   "source": [
    "# Build the scatter plots for latitude vs. Wind Speed\n",
    "x_values = city_data_df[\"Lat\"].astype(\"float\")\n",
    "y_values = city_data_df[\"Wind Speed\"].astype(\"float\")\n",
    "plt.scatter(x_values,y_values, c='C6', s=25, edgecolors='0.0')\n",
    "\n",
    "# Incorporate the other graph properties\n",
    "plt.xlabel('Global Latitude of City')\n",
    "plt.ylabel('Wind Speed (f/s)')\n",
    "plt.title(f'Latitude vs. Wind Speed ({date})')\n",
    "\n",
    "# Save the figure\n",
    "plt.savefig(\"output_data/Fig4.png\")\n",
    "\n",
    "# Show plot\n",
    "plt.show()"
   ]
  },
  {
   "cell_type": "markdown",
   "metadata": {},
   "source": [
    "---\n",
    "\n",
    "## Requirement 2: Compute Linear Regression for Each Relationship\n"
   ]
  },
  {
   "cell_type": "code",
   "execution_count": null,
   "metadata": {},
   "outputs": [],
   "source": [
    "# Define a function to create Linear Regression plots\n",
    "(slope, intercept, rvalue, pvalue, stderr) = linregress(x_values, y_values)\n",
    "regress_values = x_values * slope + intercept\n",
    "line_eq = \"y = \" + str(round(slope,2)) + \"x + \" + str(round(intercept,2))"
   ]
  },
  {
   "cell_type": "code",
   "execution_count": null,
   "metadata": {},
   "outputs": [],
   "source": [
    "# Create a DataFrame with the Northern Hemisphere data (Latitude >= 0)\n",
    "northern_hemi_df = city_data_df.loc[(city_data_df[\"Lat\"]>=0),:]\n",
    "\n",
    "# Display sample data\n",
    "northern_hemi_df.head()"
   ]
  },
  {
   "cell_type": "code",
   "execution_count": null,
   "metadata": {},
   "outputs": [],
   "source": [
    "# Create a DataFrame with the Southern Hemisphere data (Latitude < 0)\n",
    "southern_hemi_df = city_data_df.loc[(city_data_df[\"Lat\"]<0),:]\n",
    "\n",
    "# Display sample data\n",
    "southern_hemi_df.head()"
   ]
  },
  {
   "cell_type": "markdown",
   "metadata": {},
   "source": [
    "###  Temperature vs. Latitude Linear Regression Plot"
   ]
  },
  {
   "cell_type": "code",
   "execution_count": null,
   "metadata": {},
   "outputs": [],
   "source": [
    "# Linear regression on Northern Hemisphere\n",
    "# Build scatter plot for latitude vs. temperature\n",
    "x_values = northern_hemi_df[\"Lat\"].astype(\"float\")\n",
    "y_values = northern_hemi_df[\"Max Temp (F)\"].astype(\"float\")\n",
    "plt.scatter(x_values,y_values, c='C0', s=25, edgecolors='0.0')\n",
    "\n",
    "# Incorporate the other graph properties\n",
    "plt.xlabel('Latitude')\n",
    "plt.ylabel('Max Temperature (F)')\n",
    "plt.title(\"Latitude vs. High Temps in Northern Hemisphere\")\n",
    "\n",
    "# Run linear regression\n",
    "(slope, intercept, rvalue, pvalue, stderr) = linregress(x_values, y_values)\n",
    "regress_values = x_values * slope + intercept\n",
    "line_eq = \"y = \" + str(round(slope,2)) + \"x + \" + str(round(intercept,2))\n",
    "\n",
    "# Plot regression line\n",
    "plt.plot(x_values,regress_values,\"r-\")\n",
    "plt.annotate(line_eq,(6,10),fontsize=15,color=\"red\")\n",
    "\n",
    "# Print r square value\n",
    "print(f\"The r-value is: {rvalue**2}\")\n",
    "\n",
    "# Show plot\n",
    "plt.show()\n"
   ]
  },
  {
   "cell_type": "code",
   "execution_count": null,
   "metadata": {},
   "outputs": [],
   "source": [
    "# Linear regression on Southern Hemisphere\n",
    "# Build scatter plot for latitude vs. temperature\n",
    "x_values = southern_hemi_df[\"Lat\"].astype(\"float\")\n",
    "y_values = southern_hemi_df[\"Max Temp (F)\"].astype(\"float\")\n",
    "plt.scatter(x_values,y_values, c='C0', s=25, edgecolors='0.0')\n",
    "\n",
    "# Incorporate the other graph properties\n",
    "plt.xlabel('Latitude')\n",
    "plt.ylabel('Max Temperature (F)')\n",
    "plt.title(\"Latitude vs. High Temps in Southern Hemisphere\")\n",
    "\n",
    "# Run linear regression\n",
    "(slope, intercept, rvalue, pvalue, stderr) = linregress(x_values, y_values)\n",
    "regress_values = x_values * slope + intercept\n",
    "line_eq = \"y = \" + str(round(slope,2)) + \"x + \" + str(round(intercept,2))\n",
    "\n",
    "# Plot regression line\n",
    "plt.plot(x_values,regress_values,\"r-\")\n",
    "plt.annotate(line_eq,(6,10),fontsize=15,color=\"red\")\n",
    "\n",
    "# Print r square value\n",
    "print(f\"The r-value is: {rvalue**2}\")\n",
    "\n",
    "# Show plot\n",
    "plt.show()\n"
   ]
  },
  {
   "cell_type": "markdown",
   "metadata": {},
   "source": [
    "**Discussion about the linear relationship:**\n",
    "\n",
    "Based upon the analysis of both charts we can see there is a strong relationship between latitude and temperature. As the latitude nears the equator (0°) there is a corresponding increase in temperature.  This supports the hypothesis that equatorial regions are warmer than those that are closer to the poles.  This correlation is also supported by a high r-value in the 0.6 range."
   ]
  },
  {
   "cell_type": "markdown",
   "metadata": {},
   "source": [
    "### Humidity vs. Latitude Linear Regression Plot"
   ]
  },
  {
   "cell_type": "code",
   "execution_count": null,
   "metadata": {},
   "outputs": [],
   "source": [
    "# Northern Hemisphere\n",
    "# Build the scatter plots for latitude vs. humidity\n",
    "x_values = northern_hemi_df[\"Lat\"].astype(\"float\")\n",
    "y_values = northern_hemi_df[\"Humidity\"].astype(\"float\")\n",
    "plt.scatter(x_values,y_values, c='m', s=25, edgecolors='0.0')\n",
    "\n",
    "# Incorporate the other graph properties\n",
    "plt.xlabel('Global Latitude of City')\n",
    "plt.ylabel('Humidity (%)')\n",
    "plt.title(\"Latitude vs. Humidity in Northern Hemisphere\")\n",
    "\n",
    "# Run linear regression\n",
    "(slope, intercept, rvalue, pvalue, stderr) = linregress(x_values, y_values)\n",
    "regress_values = x_values * slope + intercept\n",
    "line_eq = \"y = \" + str(round(slope,2)) + \"x + \" + str(round(intercept,2))\n",
    "\n",
    "# Plot regression line\n",
    "plt.plot(x_values,regress_values,\"r-\")\n",
    "plt.annotate(line_eq,(6,10),fontsize=15,color=\"red\")\n",
    "\n",
    "# Print r square value\n",
    "print(f\"The r-value is: {rvalue**2}\")\n",
    "\n",
    "# Show plot\n",
    "plt.show()"
   ]
  },
  {
   "cell_type": "code",
   "execution_count": null,
   "metadata": {},
   "outputs": [],
   "source": [
    "# Southern Hemisphere\n",
    "# Build the scatter plots for latitude vs. humidity\n",
    "x_values = southern_hemi_df[\"Lat\"].astype(\"float\")\n",
    "y_values = southern_hemi_df[\"Humidity\"].astype(\"float\")\n",
    "plt.scatter(x_values,y_values, c='m', s=25, edgecolors='0.0')\n",
    "\n",
    "# Incorporate the other graph properties\n",
    "plt.xlabel('Global Latitude of City')\n",
    "plt.ylabel('Humidity (%)')\n",
    "plt.title(\"Latitude vs. Humidity in Southern Hemisphere\")\n",
    "\n",
    "# Run linear regression\n",
    "(slope, intercept, rvalue, pvalue, stderr) = linregress(x_values, y_values)\n",
    "regress_values = x_values * slope + intercept\n",
    "line_eq = \"y = \" + str(round(slope,2)) + \"x + \" + str(round(intercept,2))\n",
    "\n",
    "# Plot regression line\n",
    "plt.plot(x_values,regress_values,\"r-\")\n",
    "plt.annotate(line_eq,(6,10),fontsize=15,color=\"red\")\n",
    "\n",
    "# Print r square value\n",
    "print(f\"The r-value is: {rvalue**2}\")\n",
    "\n",
    "# Show plot\n",
    "plt.show()"
   ]
  },
  {
   "cell_type": "markdown",
   "metadata": {},
   "source": [
    "**Discussion about the linear relationship:**\n",
    "\n",
    "Based upon the analysis of both charts we can see there is essentially no correlation between humidity and latitude. The linear regression is flat and humidity is relatively consistent at all latitudes, North and South. This is supported by low r-values in both charts."
   ]
  },
  {
   "cell_type": "markdown",
   "metadata": {},
   "source": [
    "### Cloudiness vs. Latitude Linear Regression Plot"
   ]
  },
  {
   "cell_type": "code",
   "execution_count": null,
   "metadata": {},
   "outputs": [],
   "source": [
    "# Northern Hemisphere\n",
    "# Build the scatter plots for latitude vs. cloudiness\n",
    "x_values = northern_hemi_df[\"Lat\"].astype(\"float\")\n",
    "y_values = northern_hemi_df[\"Cloudiness\"].astype(\"float\")\n",
    "plt.scatter(x_values,y_values, c='c', s=25, edgecolors='0.0')\n",
    "\n",
    "# Incorporate the other graph properties\n",
    "plt.xlabel('Global Latitude of City')\n",
    "plt.ylabel('Cloud Cover (%)')\n",
    "plt.title(\"Latitude vs. Cloud Cover in Northern Hemisphere\")\n",
    "\n",
    "# Run linear regression\n",
    "(slope, intercept, rvalue, pvalue, stderr) = linregress(x_values, y_values)\n",
    "regress_values = x_values * slope + intercept\n",
    "line_eq = \"y = \" + str(round(slope,2)) + \"x + \" + str(round(intercept,2))\n",
    "\n",
    "# Plot regression line\n",
    "plt.plot(x_values,regress_values,\"r-\")\n",
    "plt.annotate(line_eq,(6,10),fontsize=15,color=\"red\")\n",
    "\n",
    "# Print r square value\n",
    "print(f\"The r-value is: {rvalue**2}\")\n",
    "\n",
    "# Show plot\n",
    "plt.show()"
   ]
  },
  {
   "cell_type": "code",
   "execution_count": null,
   "metadata": {},
   "outputs": [],
   "source": [
    "# Southern Hemisphere\n",
    "# Build the scatter plots for latitude vs. cloudiness\n",
    "x_values = southern_hemi_df[\"Lat\"].astype(\"float\")\n",
    "y_values = southern_hemi_df[\"Cloudiness\"].astype(\"float\")\n",
    "plt.scatter(x_values,y_values, c='c', s=25, edgecolors='0.0')\n",
    "\n",
    "# Incorporate the other graph properties\n",
    "plt.xlabel('Global Latitude of City')\n",
    "plt.ylabel('Cloud Cover (%)')\n",
    "plt.title(\"Latitude vs. Cloud Cover in Southern Hemisphere\")\n",
    "\n",
    "# Run linear regression\n",
    "(slope, intercept, rvalue, pvalue, stderr) = linregress(x_values, y_values)\n",
    "regress_values = x_values * slope + intercept\n",
    "line_eq = \"y = \" + str(round(slope,2)) + \"x + \" + str(round(intercept,2))\n",
    "\n",
    "# Plot regression line\n",
    "plt.plot(x_values,regress_values,\"r-\")\n",
    "plt.annotate(line_eq,(6,10),fontsize=15,color=\"red\")\n",
    "\n",
    "# Print r square value\n",
    "print(f\"The r-value is: {rvalue**2}\")\n",
    "\n",
    "# Show plot\n",
    "plt.show()"
   ]
  },
  {
   "cell_type": "markdown",
   "metadata": {},
   "source": [
    "**Discussion about the linear relationship:** \n",
    "\n",
    "Similarly, a comparison of cloud cover and latitude show that there is essentially no relationship between the two.  Cloud cover occurs at all latitudes with coverages ranging from zero to 100.  With an r-value hovering close to zero, the linear regression is flat."
   ]
  },
  {
   "cell_type": "markdown",
   "metadata": {},
   "source": [
    "### Wind Speed vs. Latitude Linear Regression Plot"
   ]
  },
  {
   "cell_type": "code",
   "execution_count": null,
   "metadata": {},
   "outputs": [],
   "source": [
    "# Northern Hemisphere\n",
    "# Build the scatter plots for latitude vs. Wind Speed\n",
    "x_values = northern_hemi_df[\"Lat\"].astype(\"float\")\n",
    "y_values = northern_hemi_df[\"Wind Speed\"].astype(\"float\")\n",
    "plt.scatter(x_values,y_values, c='C6', s=25, edgecolors='0.0')\n",
    "\n",
    "# Incorporate the other graph properties\n",
    "plt.xlabel('Global Latitude of City')\n",
    "plt.ylabel('Wind Speed (f/s)')\n",
    "plt.title(\"Latitude vs. Wind Speed in Northern Hemisphere\")\n",
    "\n",
    "# Run linear regression\n",
    "(slope, intercept, rvalue, pvalue, stderr) = linregress(x_values, y_values)\n",
    "regress_values = x_values * slope + intercept\n",
    "line_eq = \"y = \" + str(round(slope,2)) + \"x + \" + str(round(intercept,2))\n",
    "\n",
    "# Plot regression line\n",
    "plt.plot(x_values,regress_values,\"r-\")\n",
    "plt.annotate(line_eq,(6,10),fontsize=15,color=\"red\")\n",
    "\n",
    "# Print r square value\n",
    "print(f\"The r-value is: {rvalue**2}\")\n",
    "\n",
    "# Show plot\n",
    "plt.show()"
   ]
  },
  {
   "cell_type": "code",
   "execution_count": null,
   "metadata": {},
   "outputs": [],
   "source": [
    "# Southern Hemisphere\n",
    "# Build the scatter plots for latitude vs. Wind Speed\n",
    "x_values = southern_hemi_df[\"Lat\"].astype(\"float\")\n",
    "y_values = southern_hemi_df[\"Wind Speed\"].astype(\"float\")\n",
    "plt.scatter(x_values,y_values, c='C6', s=25, edgecolors='0.0')\n",
    "\n",
    "# Incorporate the other graph properties\n",
    "plt.xlabel('Global Latitude of City')\n",
    "plt.ylabel('Wind Speed (f/s)')\n",
    "plt.title(\"Latitude vs. Wind Speed in Southern Hemisphere\")\n",
    "\n",
    "# Run linear regression\n",
    "(slope, intercept, rvalue, pvalue, stderr) = linregress(x_values, y_values)\n",
    "regress_values = x_values * slope + intercept\n",
    "line_eq = \"y = \" + str(round(slope,2)) + \"x + \" + str(round(intercept,2))\n",
    "\n",
    "# Plot regression line\n",
    "plt.plot(x_values,regress_values,\"r-\")\n",
    "plt.annotate(line_eq,(6,10),fontsize=15,color=\"red\")\n",
    "\n",
    "# Print r square value\n",
    "print(f\"The r-value is: {rvalue**2}\")\n",
    "\n",
    "# Show plot\n",
    "plt.show()"
   ]
  },
  {
   "cell_type": "markdown",
   "metadata": {},
   "source": [
    "**Discussion about the linear relationship:**\n",
    "\n",
    "The relationship between wind speed and latitude is somewhat more complicated than in the previous examples.  In the Northern hemisphere, linear regression is flat and there appears to be no correlation between the two.  However, wind speed in the Southern hemisphere shows a slight decrease as it moves toward the equator.  With a difference of only 7-8 f/s and an r-value in the 0.1 range, any correlation that we see is weak at best."
   ]
  },
  {
   "cell_type": "code",
   "execution_count": null,
   "metadata": {},
   "outputs": [],
   "source": []
  }
 ],
 "metadata": {
  "anaconda-cloud": {},
  "kernel_info": {
   "name": "python3"
  },
  "kernelspec": {
   "display_name": "Python 3 (ipykernel)",
   "language": "python",
   "name": "python3"
  },
  "language_info": {
   "codemirror_mode": {
    "name": "ipython",
    "version": 3
   },
   "file_extension": ".py",
   "mimetype": "text/x-python",
   "name": "python",
   "nbconvert_exporter": "python",
   "pygments_lexer": "ipython3",
   "version": "3.10.11"
  },
  "latex_envs": {
   "LaTeX_envs_menu_present": true,
   "autoclose": false,
   "autocomplete": true,
   "bibliofile": "biblio.bib",
   "cite_by": "apalike",
   "current_citInitial": 1,
   "eqLabelWithNumbers": true,
   "eqNumInitial": 1,
   "hotkeys": {
    "equation": "Ctrl-E",
    "itemize": "Ctrl-I"
   },
   "labels_anchors": false,
   "latex_user_defs": false,
   "report_style_numbering": false,
   "user_envs_cfg": false
  },
  "nteract": {
   "version": "0.12.3"
  }
 },
 "nbformat": 4,
 "nbformat_minor": 4
}
